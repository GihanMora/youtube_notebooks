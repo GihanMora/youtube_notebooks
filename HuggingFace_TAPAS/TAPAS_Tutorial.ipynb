{
  "nbformat": 4,
  "nbformat_minor": 0,
  "metadata": {
    "colab": {
      "name": "TAPAS_Tutorial.ipynb",
      "provenance": [],
      "collapsed_sections": []
    },
    "kernelspec": {
      "name": "python3",
      "display_name": "Python 3"
    },
    "language_info": {
      "name": "python"
    }
  },
  "cells": [
    {
      "cell_type": "markdown",
      "source": [
        "# Table Question Answering\n",
        "Here the language models are specifically trained for understanding a given table and answer accordingly. Here we will be using google's TAPAS model for this."
      ],
      "metadata": {
        "id": "Ef2ZIVGoPA0-"
      }
    },
    {
      "cell_type": "markdown",
      "source": [
        "Installing libraries"
      ],
      "metadata": {
        "id": "NB8qJRHVZrrS"
      }
    },
    {
      "cell_type": "code",
      "source": [
        "!pip install transformers\n",
        "!pip install torch-scatter -f https://data.pyg.org/whl/torch-1.9.0+${CUDA}.html\n"
      ],
      "metadata": {
        "id": "_OWeLIdGbMeA",
        "colab": {
          "base_uri": "https://localhost:8080/"
        },
        "outputId": "e8fa56b2-395f-491e-81d0-9b6cff1d8ae8"
      },
      "execution_count": 9,
      "outputs": [
        {
          "output_type": "stream",
          "name": "stdout",
          "text": [
            "Requirement already satisfied: transformers in /usr/local/lib/python3.7/dist-packages (4.18.0)\n",
            "Requirement already satisfied: regex!=2019.12.17 in /usr/local/lib/python3.7/dist-packages (from transformers) (2019.12.20)\n",
            "Requirement already satisfied: sacremoses in /usr/local/lib/python3.7/dist-packages (from transformers) (0.0.49)\n",
            "Requirement already satisfied: tokenizers!=0.11.3,<0.13,>=0.11.1 in /usr/local/lib/python3.7/dist-packages (from transformers) (0.11.6)\n",
            "Requirement already satisfied: numpy>=1.17 in /usr/local/lib/python3.7/dist-packages (from transformers) (1.21.5)\n",
            "Requirement already satisfied: pyyaml>=5.1 in /usr/local/lib/python3.7/dist-packages (from transformers) (6.0)\n",
            "Requirement already satisfied: filelock in /usr/local/lib/python3.7/dist-packages (from transformers) (3.6.0)\n",
            "Requirement already satisfied: requests in /usr/local/lib/python3.7/dist-packages (from transformers) (2.23.0)\n",
            "Requirement already satisfied: packaging>=20.0 in /usr/local/lib/python3.7/dist-packages (from transformers) (21.3)\n",
            "Requirement already satisfied: importlib-metadata in /usr/local/lib/python3.7/dist-packages (from transformers) (4.11.3)\n",
            "Requirement already satisfied: huggingface-hub<1.0,>=0.1.0 in /usr/local/lib/python3.7/dist-packages (from transformers) (0.5.1)\n",
            "Requirement already satisfied: tqdm>=4.27 in /usr/local/lib/python3.7/dist-packages (from transformers) (4.63.0)\n",
            "Requirement already satisfied: typing-extensions>=3.7.4.3 in /usr/local/lib/python3.7/dist-packages (from huggingface-hub<1.0,>=0.1.0->transformers) (3.10.0.2)\n",
            "Requirement already satisfied: pyparsing!=3.0.5,>=2.0.2 in /usr/local/lib/python3.7/dist-packages (from packaging>=20.0->transformers) (3.0.7)\n",
            "Requirement already satisfied: zipp>=0.5 in /usr/local/lib/python3.7/dist-packages (from importlib-metadata->transformers) (3.7.0)\n",
            "Requirement already satisfied: certifi>=2017.4.17 in /usr/local/lib/python3.7/dist-packages (from requests->transformers) (2021.10.8)\n",
            "Requirement already satisfied: idna<3,>=2.5 in /usr/local/lib/python3.7/dist-packages (from requests->transformers) (2.10)\n",
            "Requirement already satisfied: urllib3!=1.25.0,!=1.25.1,<1.26,>=1.21.1 in /usr/local/lib/python3.7/dist-packages (from requests->transformers) (1.24.3)\n",
            "Requirement already satisfied: chardet<4,>=3.0.2 in /usr/local/lib/python3.7/dist-packages (from requests->transformers) (3.0.4)\n",
            "Requirement already satisfied: six in /usr/local/lib/python3.7/dist-packages (from sacremoses->transformers) (1.15.0)\n",
            "Requirement already satisfied: joblib in /usr/local/lib/python3.7/dist-packages (from sacremoses->transformers) (1.1.0)\n",
            "Requirement already satisfied: click in /usr/local/lib/python3.7/dist-packages (from sacremoses->transformers) (7.1.2)\n",
            "Looking in links: https://data.pyg.org/whl/torch-1.9.0+.html\n",
            "Requirement already satisfied: torch-scatter in /usr/local/lib/python3.7/dist-packages (2.0.9)\n"
          ]
        }
      ]
    },
    {
      "cell_type": "markdown",
      "source": [
        "Importing libraries"
      ],
      "metadata": {
        "id": "6ZwxafqqZvHZ"
      }
    },
    {
      "cell_type": "code",
      "source": [
        "from transformers import AutoModelForTableQuestionAnswering, AutoTokenizer, pipeline\n",
        "import pandas as pd"
      ],
      "metadata": {
        "id": "U8l1ZSv_KqQB"
      },
      "execution_count": 11,
      "outputs": []
    },
    {
      "cell_type": "markdown",
      "source": [
        "For this we will use sample data file from Ookla which shows fastest ISPs by city in 2017.\n",
        "Source : https://www.lifehacker.com.au/2017/11/revealed-the-fastest-isps-in-each-australian-city/"
      ],
      "metadata": {
        "id": "8D6E0Qe9b7Yd"
      }
    },
    {
      "cell_type": "markdown",
      "source": [
        "Download the data."
      ],
      "metadata": {
        "id": "UEqSy8e63gan"
      }
    },
    {
      "cell_type": "code",
      "source": [
        "!wget --no-check-certificate 'https://docs.google.com/uc?export=download&id=1TxyQU9v16GfLz10NvnyJZhgVwECxmyqe' -O 'data_ISP.csv'\n",
        "data = pd.read_csv(r\"data_ISP.csv\")"
      ],
      "metadata": {
        "id": "-g0kZUZGZttw",
        "colab": {
          "base_uri": "https://localhost:8080/"
        },
        "outputId": "6da63bed-f2ec-4cc7-a6ce-9ecae9be5aa2"
      },
      "execution_count": 12,
      "outputs": [
        {
          "output_type": "stream",
          "name": "stdout",
          "text": [
            "--2022-04-08 11:43:58--  https://docs.google.com/uc?export=download&id=1TxyQU9v16GfLz10NvnyJZhgVwECxmyqe\n",
            "Resolving docs.google.com (docs.google.com)... 74.125.143.113, 74.125.143.102, 74.125.143.101, ...\n",
            "Connecting to docs.google.com (docs.google.com)|74.125.143.113|:443... connected.\n",
            "HTTP request sent, awaiting response... 303 See Other\n",
            "Location: https://doc-00-8g-docs.googleusercontent.com/docs/securesc/ha0ro937gcuc7l7deffksulhg5h7mbp1/4il2bf1lrhosfu84pgf1v1ust51qho27/1649418225000/03983047858725985766/*/1TxyQU9v16GfLz10NvnyJZhgVwECxmyqe?e=download [following]\n",
            "Warning: wildcards not supported in HTTP.\n",
            "--2022-04-08 11:43:59--  https://doc-00-8g-docs.googleusercontent.com/docs/securesc/ha0ro937gcuc7l7deffksulhg5h7mbp1/4il2bf1lrhosfu84pgf1v1ust51qho27/1649418225000/03983047858725985766/*/1TxyQU9v16GfLz10NvnyJZhgVwECxmyqe?e=download\n",
            "Resolving doc-00-8g-docs.googleusercontent.com (doc-00-8g-docs.googleusercontent.com)... 108.177.126.132, 2a00:1450:4013:c01::84\n",
            "Connecting to doc-00-8g-docs.googleusercontent.com (doc-00-8g-docs.googleusercontent.com)|108.177.126.132|:443... connected.\n",
            "HTTP request sent, awaiting response... 200 OK\n",
            "Length: 695 [text/csv]\n",
            "Saving to: ‘data_ISP.csv’\n",
            "\n",
            "data_ISP.csv        100%[===================>]     695  --.-KB/s    in 0s      \n",
            "\n",
            "2022-04-08 11:44:00 (9.77 MB/s) - ‘data_ISP.csv’ saved [695/695]\n",
            "\n"
          ]
        }
      ]
    },
    {
      "cell_type": "code",
      "source": [
        "data"
      ],
      "metadata": {
        "id": "NFk2TrB0YqBP",
        "colab": {
          "base_uri": "https://localhost:8080/",
          "height": 426
        },
        "outputId": "59abeace-663a-4a7f-caad-69aa16b3ac86"
      },
      "execution_count": 13,
      "outputs": [
        {
          "output_type": "execute_result",
          "data": {
            "text/plain": [
              "                                      City  Download (Mbps)  Upload (Mbps)  \\\n",
              "0                Adelaide, South Australia            21.93          10.74   \n",
              "1                     Brisbane, Queensland            35.08          23.56   \n",
              "2   Canberra, Australian Capital Territory            32.47          14.12   \n",
              "3               Darwin, Northern Territory            29.62          13.89   \n",
              "4                        Geelong, Victoria            67.05          22.15   \n",
              "5                   Gold Coast, Queensland            32.17           9.07   \n",
              "6                         Hobart, Tasmania            27.25          11.74   \n",
              "7                      Melbourne, Victoria            31.63          20.58   \n",
              "8               Newcastle, New South Wales            33.97          14.74   \n",
              "9                 Perth, Western Australia            17.90           7.59   \n",
              "10                 Sydney, New South Wales            30.03          16.27   \n",
              "11             Wollongong, New South Wales            33.72          19.78   \n",
              "\n",
              "   Fastest ISP  Speed Score  \n",
              "0          TPG        31.09  \n",
              "1        Optus        49.19  \n",
              "2        ¡¡Net        35.21  \n",
              "3        ¡¡Net        34.34  \n",
              "4        ¡¡Net        94.26  \n",
              "5        Optus        91.37  \n",
              "6      Telstra        27.80  \n",
              "7       Spirit        44.29  \n",
              "8   MyRepublic        57.36  \n",
              "9          TPG        28.44  \n",
              "10  MyRepublic        49.18  \n",
              "11  MyRepublic        94.31  "
            ],
            "text/html": [
              "\n",
              "  <div id=\"df-1d59abdb-f977-4f6d-8d9f-69c5fc570ee7\">\n",
              "    <div class=\"colab-df-container\">\n",
              "      <div>\n",
              "<style scoped>\n",
              "    .dataframe tbody tr th:only-of-type {\n",
              "        vertical-align: middle;\n",
              "    }\n",
              "\n",
              "    .dataframe tbody tr th {\n",
              "        vertical-align: top;\n",
              "    }\n",
              "\n",
              "    .dataframe thead th {\n",
              "        text-align: right;\n",
              "    }\n",
              "</style>\n",
              "<table border=\"1\" class=\"dataframe\">\n",
              "  <thead>\n",
              "    <tr style=\"text-align: right;\">\n",
              "      <th></th>\n",
              "      <th>City</th>\n",
              "      <th>Download (Mbps)</th>\n",
              "      <th>Upload (Mbps)</th>\n",
              "      <th>Fastest ISP</th>\n",
              "      <th>Speed Score</th>\n",
              "    </tr>\n",
              "  </thead>\n",
              "  <tbody>\n",
              "    <tr>\n",
              "      <th>0</th>\n",
              "      <td>Adelaide, South Australia</td>\n",
              "      <td>21.93</td>\n",
              "      <td>10.74</td>\n",
              "      <td>TPG</td>\n",
              "      <td>31.09</td>\n",
              "    </tr>\n",
              "    <tr>\n",
              "      <th>1</th>\n",
              "      <td>Brisbane, Queensland</td>\n",
              "      <td>35.08</td>\n",
              "      <td>23.56</td>\n",
              "      <td>Optus</td>\n",
              "      <td>49.19</td>\n",
              "    </tr>\n",
              "    <tr>\n",
              "      <th>2</th>\n",
              "      <td>Canberra, Australian Capital Territory</td>\n",
              "      <td>32.47</td>\n",
              "      <td>14.12</td>\n",
              "      <td>¡¡Net</td>\n",
              "      <td>35.21</td>\n",
              "    </tr>\n",
              "    <tr>\n",
              "      <th>3</th>\n",
              "      <td>Darwin, Northern Territory</td>\n",
              "      <td>29.62</td>\n",
              "      <td>13.89</td>\n",
              "      <td>¡¡Net</td>\n",
              "      <td>34.34</td>\n",
              "    </tr>\n",
              "    <tr>\n",
              "      <th>4</th>\n",
              "      <td>Geelong, Victoria</td>\n",
              "      <td>67.05</td>\n",
              "      <td>22.15</td>\n",
              "      <td>¡¡Net</td>\n",
              "      <td>94.26</td>\n",
              "    </tr>\n",
              "    <tr>\n",
              "      <th>5</th>\n",
              "      <td>Gold Coast, Queensland</td>\n",
              "      <td>32.17</td>\n",
              "      <td>9.07</td>\n",
              "      <td>Optus</td>\n",
              "      <td>91.37</td>\n",
              "    </tr>\n",
              "    <tr>\n",
              "      <th>6</th>\n",
              "      <td>Hobart, Tasmania</td>\n",
              "      <td>27.25</td>\n",
              "      <td>11.74</td>\n",
              "      <td>Telstra</td>\n",
              "      <td>27.80</td>\n",
              "    </tr>\n",
              "    <tr>\n",
              "      <th>7</th>\n",
              "      <td>Melbourne, Victoria</td>\n",
              "      <td>31.63</td>\n",
              "      <td>20.58</td>\n",
              "      <td>Spirit</td>\n",
              "      <td>44.29</td>\n",
              "    </tr>\n",
              "    <tr>\n",
              "      <th>8</th>\n",
              "      <td>Newcastle, New South Wales</td>\n",
              "      <td>33.97</td>\n",
              "      <td>14.74</td>\n",
              "      <td>MyRepublic</td>\n",
              "      <td>57.36</td>\n",
              "    </tr>\n",
              "    <tr>\n",
              "      <th>9</th>\n",
              "      <td>Perth, Western Australia</td>\n",
              "      <td>17.90</td>\n",
              "      <td>7.59</td>\n",
              "      <td>TPG</td>\n",
              "      <td>28.44</td>\n",
              "    </tr>\n",
              "    <tr>\n",
              "      <th>10</th>\n",
              "      <td>Sydney, New South Wales</td>\n",
              "      <td>30.03</td>\n",
              "      <td>16.27</td>\n",
              "      <td>MyRepublic</td>\n",
              "      <td>49.18</td>\n",
              "    </tr>\n",
              "    <tr>\n",
              "      <th>11</th>\n",
              "      <td>Wollongong, New South Wales</td>\n",
              "      <td>33.72</td>\n",
              "      <td>19.78</td>\n",
              "      <td>MyRepublic</td>\n",
              "      <td>94.31</td>\n",
              "    </tr>\n",
              "  </tbody>\n",
              "</table>\n",
              "</div>\n",
              "      <button class=\"colab-df-convert\" onclick=\"convertToInteractive('df-1d59abdb-f977-4f6d-8d9f-69c5fc570ee7')\"\n",
              "              title=\"Convert this dataframe to an interactive table.\"\n",
              "              style=\"display:none;\">\n",
              "        \n",
              "  <svg xmlns=\"http://www.w3.org/2000/svg\" height=\"24px\"viewBox=\"0 0 24 24\"\n",
              "       width=\"24px\">\n",
              "    <path d=\"M0 0h24v24H0V0z\" fill=\"none\"/>\n",
              "    <path d=\"M18.56 5.44l.94 2.06.94-2.06 2.06-.94-2.06-.94-.94-2.06-.94 2.06-2.06.94zm-11 1L8.5 8.5l.94-2.06 2.06-.94-2.06-.94L8.5 2.5l-.94 2.06-2.06.94zm10 10l.94 2.06.94-2.06 2.06-.94-2.06-.94-.94-2.06-.94 2.06-2.06.94z\"/><path d=\"M17.41 7.96l-1.37-1.37c-.4-.4-.92-.59-1.43-.59-.52 0-1.04.2-1.43.59L10.3 9.45l-7.72 7.72c-.78.78-.78 2.05 0 2.83L4 21.41c.39.39.9.59 1.41.59.51 0 1.02-.2 1.41-.59l7.78-7.78 2.81-2.81c.8-.78.8-2.07 0-2.86zM5.41 20L4 18.59l7.72-7.72 1.47 1.35L5.41 20z\"/>\n",
              "  </svg>\n",
              "      </button>\n",
              "      \n",
              "  <style>\n",
              "    .colab-df-container {\n",
              "      display:flex;\n",
              "      flex-wrap:wrap;\n",
              "      gap: 12px;\n",
              "    }\n",
              "\n",
              "    .colab-df-convert {\n",
              "      background-color: #E8F0FE;\n",
              "      border: none;\n",
              "      border-radius: 50%;\n",
              "      cursor: pointer;\n",
              "      display: none;\n",
              "      fill: #1967D2;\n",
              "      height: 32px;\n",
              "      padding: 0 0 0 0;\n",
              "      width: 32px;\n",
              "    }\n",
              "\n",
              "    .colab-df-convert:hover {\n",
              "      background-color: #E2EBFA;\n",
              "      box-shadow: 0px 1px 2px rgba(60, 64, 67, 0.3), 0px 1px 3px 1px rgba(60, 64, 67, 0.15);\n",
              "      fill: #174EA6;\n",
              "    }\n",
              "\n",
              "    [theme=dark] .colab-df-convert {\n",
              "      background-color: #3B4455;\n",
              "      fill: #D2E3FC;\n",
              "    }\n",
              "\n",
              "    [theme=dark] .colab-df-convert:hover {\n",
              "      background-color: #434B5C;\n",
              "      box-shadow: 0px 1px 3px 1px rgba(0, 0, 0, 0.15);\n",
              "      filter: drop-shadow(0px 1px 2px rgba(0, 0, 0, 0.3));\n",
              "      fill: #FFFFFF;\n",
              "    }\n",
              "  </style>\n",
              "\n",
              "      <script>\n",
              "        const buttonEl =\n",
              "          document.querySelector('#df-1d59abdb-f977-4f6d-8d9f-69c5fc570ee7 button.colab-df-convert');\n",
              "        buttonEl.style.display =\n",
              "          google.colab.kernel.accessAllowed ? 'block' : 'none';\n",
              "\n",
              "        async function convertToInteractive(key) {\n",
              "          const element = document.querySelector('#df-1d59abdb-f977-4f6d-8d9f-69c5fc570ee7');\n",
              "          const dataTable =\n",
              "            await google.colab.kernel.invokeFunction('convertToInteractive',\n",
              "                                                     [key], {});\n",
              "          if (!dataTable) return;\n",
              "\n",
              "          const docLinkHtml = 'Like what you see? Visit the ' +\n",
              "            '<a target=\"_blank\" href=https://colab.research.google.com/notebooks/data_table.ipynb>data table notebook</a>'\n",
              "            + ' to learn more about interactive tables.';\n",
              "          element.innerHTML = '';\n",
              "          dataTable['output_type'] = 'display_data';\n",
              "          await google.colab.output.renderOutput(dataTable, element);\n",
              "          const docLink = document.createElement('div');\n",
              "          docLink.innerHTML = docLinkHtml;\n",
              "          element.appendChild(docLink);\n",
              "        }\n",
              "      </script>\n",
              "    </div>\n",
              "  </div>\n",
              "  "
            ]
          },
          "metadata": {},
          "execution_count": 13
        }
      ]
    },
    {
      "cell_type": "markdown",
      "source": [
        "Lets convert dataframe to a string to be passed through language model."
      ],
      "metadata": {
        "id": "VNVwoW5YcfuN"
      }
    },
    {
      "cell_type": "code",
      "source": [
        "data = data.astype(str)"
      ],
      "metadata": {
        "id": "23v6CLzLcenP"
      },
      "execution_count": 14,
      "outputs": []
    },
    {
      "cell_type": "markdown",
      "source": [
        "Prediction"
      ],
      "metadata": {
        "id": "tdLX03Wm4_W1"
      }
    },
    {
      "cell_type": "code",
      "execution_count": 15,
      "metadata": {
        "id": "0nl6qdBrNLom"
      },
      "outputs": [],
      "source": [
        "# Load model & tokenizer\n",
        "model = 'google/tapas-base-finetuned-wtq'\n",
        "tapas_model = AutoModelForTableQuestionAnswering.from_pretrained(model)\n",
        "tapas_tokenizer = AutoTokenizer.from_pretrained(model)\n",
        "\n",
        "# Initializing pipeline\n",
        "nlp = pipeline('table-question-answering', model=tapas_model, tokenizer=tapas_tokenizer)\n",
        "\n",
        "\n",
        "def qa(query,data):\n",
        "    print('>>>>>')\n",
        "    print(query)\n",
        "    result = nlp({'table': data,'query':query})\n",
        "    answer = result['cells']\n",
        "    print(answer)\n"
      ]
    },
    {
      "cell_type": "code",
      "source": [
        "prediction = qa('What is the highest download speed',data)"
      ],
      "metadata": {
        "id": "M7ynXil55CKW",
        "colab": {
          "base_uri": "https://localhost:8080/"
        },
        "outputId": "c7432562-f79e-4fda-b346-5d40e7a65801"
      },
      "execution_count": 16,
      "outputs": [
        {
          "output_type": "stream",
          "name": "stdout",
          "text": [
            ">>>>>\n",
            "What is the highest download speed\n",
            "['67.05']\n"
          ]
        }
      ]
    },
    {
      "cell_type": "code",
      "source": [
        "prediction = qa('Which city has the highest download speed',data)"
      ],
      "metadata": {
        "id": "BC2yqE-P5JOd",
        "colab": {
          "base_uri": "https://localhost:8080/"
        },
        "outputId": "0a3435f8-6550-4bf9-e8a5-9c1b9274047c"
      },
      "execution_count": 17,
      "outputs": [
        {
          "output_type": "stream",
          "name": "stdout",
          "text": [
            ">>>>>\n",
            "Which city has the highest download speed\n",
            "['Geelong, Victoria']\n"
          ]
        }
      ]
    },
    {
      "cell_type": "code",
      "source": [
        "prediction = qa('fastest ISP of queensland?',data)"
      ],
      "metadata": {
        "id": "yWPItEJj5LHY",
        "colab": {
          "base_uri": "https://localhost:8080/"
        },
        "outputId": "4aff5f87-1b70-4457-c7e6-90649d78ba6e"
      },
      "execution_count": 18,
      "outputs": [
        {
          "output_type": "stream",
          "name": "stdout",
          "text": [
            ">>>>>\n",
            "fastest ISP of queensland?\n",
            "['Optus']\n"
          ]
        }
      ]
    },
    {
      "cell_type": "code",
      "source": [
        "prediction = qa('Which city has the highest speed score?',data)"
      ],
      "metadata": {
        "id": "NzEyLF9D5NFW",
        "colab": {
          "base_uri": "https://localhost:8080/"
        },
        "outputId": "b4f2ea42-638f-4c91-bab1-8f110de356a2"
      },
      "execution_count": 19,
      "outputs": [
        {
          "output_type": "stream",
          "name": "stdout",
          "text": [
            ">>>>>\n",
            "Which city has the highest speed score?\n",
            "['Wollongong, New South Wales']\n"
          ]
        }
      ]
    }
  ]
}